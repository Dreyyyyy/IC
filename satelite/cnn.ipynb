{
 "cells": [
  {
   "cell_type": "code",
   "execution_count": 3,
   "metadata": {},
   "outputs": [],
   "source": [
    "import os\n",
    "import random\n",
    "import shutil\n",
    "\n",
    "# Define paths\n",
    "main_folder = '/home/shuruyi/Documents/qgis/google_satelite/extracted_images/'\n",
    "train_folder = '/home/shuruyi/Documents/qgis/google_satelite/train'\n",
    "test_folder = '/home/shuruyi/Documents/qgis/google_satelite/test'\n",
    "\n",
    "# Create train and test directories if they don't exist\n",
    "os.makedirs(train_folder, exist_ok=True)\n",
    "os.makedirs(test_folder, exist_ok=True)\n",
    "\n",
    "# List all TIFF files in the main folder\n",
    "tif_files = [f for f in os.listdir(main_folder) if f.endswith('.tif')]\n",
    "\n",
    "# Define the ratio for train-test split (e.g., 80-20 split)\n",
    "train_ratio = 0.8\n",
    "num_train = int(len(tif_files) * train_ratio)\n",
    "\n",
    "# Randomly shuffle the list of files\n",
    "random.shuffle(tif_files)\n",
    "\n",
    "# Move files to train folder\n",
    "for file in tif_files[:num_train]:\n",
    "    src = os.path.join(main_folder, file)\n",
    "    dst = os.path.join(train_folder, file)\n",
    "    shutil.move(src, dst)\n",
    "\n",
    "# Move files to test folder\n",
    "for file in tif_files[num_train:]:\n",
    "    src = os.path.join(main_folder, file)\n",
    "    dst = os.path.join(test_folder, file)\n",
    "    shutil.move(src, dst)"
   ]
  },
  {
   "cell_type": "code",
   "execution_count": 4,
   "metadata": {},
   "outputs": [
    {
     "name": "stdout",
     "output_type": "stream",
     "text": [
      "Found 1449 images belonging to 2 classes.\n",
      "Found 336 images belonging to 2 classes.\n",
      "Epoch 1/10\n",
      "45/45 [==============================] - 184s 4s/step - loss: 0.5552 - accuracy: 0.7283 - val_loss: 0.3788 - val_accuracy: 0.8938\n",
      "Epoch 2/10\n",
      "45/45 [==============================] - 151s 3s/step - loss: 0.3820 - accuracy: 0.8292 - val_loss: 0.2118 - val_accuracy: 0.9250\n",
      "Epoch 3/10\n",
      "45/45 [==============================] - 152s 3s/step - loss: 0.3444 - accuracy: 0.8440 - val_loss: 0.2095 - val_accuracy: 0.9344\n",
      "Epoch 4/10\n",
      "45/45 [==============================] - 158s 4s/step - loss: 0.3158 - accuracy: 0.8659 - val_loss: 0.1717 - val_accuracy: 0.9344\n",
      "Epoch 5/10\n",
      "45/45 [==============================] - 158s 3s/step - loss: 0.2944 - accuracy: 0.8779 - val_loss: 0.2469 - val_accuracy: 0.8875\n",
      "Epoch 6/10\n",
      "45/45 [==============================] - 242s 5s/step - loss: 0.2618 - accuracy: 0.8970 - val_loss: 0.3255 - val_accuracy: 0.8344\n",
      "Epoch 7/10\n",
      "45/45 [==============================] - 270s 6s/step - loss: 0.2503 - accuracy: 0.8984 - val_loss: 0.1897 - val_accuracy: 0.9344\n",
      "Epoch 8/10\n",
      "45/45 [==============================] - 155s 3s/step - loss: 0.2274 - accuracy: 0.9054 - val_loss: 0.1980 - val_accuracy: 0.9219\n",
      "Epoch 9/10\n",
      "45/45 [==============================] - 140s 3s/step - loss: 0.2111 - accuracy: 0.9224 - val_loss: 0.1775 - val_accuracy: 0.9125\n",
      "Epoch 10/10\n",
      "45/45 [==============================] - 144s 3s/step - loss: 0.2146 - accuracy: 0.9090 - val_loss: 0.0896 - val_accuracy: 0.9750\n"
     ]
    },
    {
     "name": "stderr",
     "output_type": "stream",
     "text": [
      "/home/shuruyi/Documents/git/IC/.venv/lib/python3.11/site-packages/keras/src/engine/training.py:3103: UserWarning: You are saving your model as an HDF5 file via `model.save()`. This file format is considered legacy. We recommend using instead the native Keras format, e.g. `model.save('my_model.keras')`.\n",
      "  saving_api.save_model(\n"
     ]
    }
   ],
   "source": [
    "import tensorflow as tf\n",
    "from keras.preprocessing.image import ImageDataGenerator\n",
    "from keras.models import Sequential\n",
    "from keras.layers import Conv2D, MaxPooling2D, Flatten, Dense\n",
    "from PIL import Image\n",
    "import scipy\n",
    "\n",
    "# CNN model parameters\n",
    "img_width, img_height = 150, 150\n",
    "input_shape = (img_width, img_height, 3)\n",
    "epochs = 10\n",
    "batch_size = 32\n",
    "\n",
    "# Data preprocessing and augmentation\n",
    "train_datagen = ImageDataGenerator(rescale=1./255, shear_range=0.2, zoom_range=0.2, horizontal_flip=True)\n",
    "test_datagen = ImageDataGenerator(rescale=1./255)\n",
    "\n",
    "train_generator = train_datagen.flow_from_directory(train_folder, target_size=(img_width, img_height),\n",
    "                                                    batch_size=batch_size, class_mode='binary')\n",
    "\n",
    "test_generator = test_datagen.flow_from_directory(test_folder, target_size=(img_width, img_height),\n",
    "                                                  batch_size=batch_size, class_mode='binary')\n",
    "\n",
    "# Define CNN model\n",
    "model = Sequential()\n",
    "model.add(Conv2D(32, (3, 3), activation='relu', input_shape=input_shape))\n",
    "model.add(MaxPooling2D((2, 2)))\n",
    "model.add(Conv2D(64, (3, 3), activation='relu'))\n",
    "model.add(MaxPooling2D((2, 2)))\n",
    "model.add(Conv2D(128, (3, 3), activation='relu'))\n",
    "model.add(MaxPooling2D((2, 2)))\n",
    "model.add(Flatten())\n",
    "model.add(Dense(128, activation='relu'))\n",
    "model.add(Dense(1, activation='sigmoid'))\n",
    "\n",
    "model.compile(optimizer='adam', loss='binary_crossentropy', metrics=['accuracy'])\n",
    "\n",
    "# Train the model\n",
    "model.fit(train_generator, steps_per_epoch=train_generator.samples // batch_size,\n",
    "          epochs=epochs, validation_data=test_generator,\n",
    "          validation_steps=test_generator.samples // batch_size)\n",
    "\n",
    "# Save the model\n",
    "model.save('tree_classifier_model.h5')"
   ]
  }
 ],
 "metadata": {
  "kernelspec": {
   "display_name": ".venv",
   "language": "python",
   "name": "python3"
  },
  "language_info": {
   "codemirror_mode": {
    "name": "ipython",
    "version": 3
   },
   "file_extension": ".py",
   "mimetype": "text/x-python",
   "name": "python",
   "nbconvert_exporter": "python",
   "pygments_lexer": "ipython3",
   "version": "3.11.5"
  }
 },
 "nbformat": 4,
 "nbformat_minor": 2
}
