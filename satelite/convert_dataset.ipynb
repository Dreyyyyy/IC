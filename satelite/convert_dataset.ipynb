{
 "cells": [
  {
   "cell_type": "code",
   "execution_count": null,
   "metadata": {},
   "outputs": [],
   "source": [
    "import os\n",
    "import geopandas as gpd\n",
    "import rasterio\n",
    "from shapely.geometry import mapping\n",
    "\n",
    "# Load shapefile\n",
    "shapefile_path = '/home/shuruyi/Documents/qgis/google_satelite/shapefile/pinus.shp'\n",
    "shapes = gpd.read_file(shapefile_path)\n",
    "\n",
    "# Load the image\n",
    "image_path = '/home/shuruyi/Documents/qgis/google_satelite/google_satelite.tif'\n",
    "image = rasterio.open(image_path)\n",
    "\n",
    "# Output directory to save the extracted images\n",
    "output_dir = '/home/shuruyi/Documents/qgis/google_satelite/extracted_images'\n",
    "\n",
    "# Ensure the output directory exists or create it if not\n",
    "os.makedirs(output_dir, exist_ok=True)\n",
    "\n",
    "# Iterate through each shape and extract ROIs\n",
    "for index, shape in shapes.iterrows():\n",
    "    geometry = shape['geometry']\n",
    "    \n",
    "    # Check if the geometry is valid\n",
    "    if geometry is not None:\n",
    "        shape_geom = [mapping(geometry)]\n",
    "\n",
    "        # Use rasterio to crop the image based on the shape's geometry\n",
    "        out_image, out_transform = rasterio.mask.mask(image, shape_geom, crop=True)\n",
    "\n",
    "        # Generate a unique filename for each extracted ROI\n",
    "        output_filename = f\"extracted_roi_{index}.tif\"\n",
    "\n",
    "        # Create the full output path\n",
    "        output_path = os.path.join(output_dir, output_filename)\n",
    "\n",
    "        # Write the extracted ROI to a new file\n",
    "        with rasterio.open(output_path, 'w', **image.meta) as dest:\n",
    "            dest.write(out_image)\n",
    "    else:\n",
    "        print(f\"Skipping shape at index {index} due to invalid geometry.\")"
   ]
  }
 ],
 "metadata": {
  "kernelspec": {
   "display_name": ".venv",
   "language": "python",
   "name": "python3"
  },
  "language_info": {
   "name": "python",
   "version": "3.11.5"
  }
 },
 "nbformat": 4,
 "nbformat_minor": 2
}
