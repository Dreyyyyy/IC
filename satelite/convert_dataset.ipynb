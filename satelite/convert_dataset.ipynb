{
 "cells": [
  {
   "cell_type": "code",
   "execution_count": 1,
   "metadata": {},
   "outputs": [],
   "source": [
    "import os\n",
    "import numpy as np\n",
    "import geopandas as gpd\n",
    "import rasterio\n",
    "from rasterio.mask import mask\n",
    "from rasterio.features import geometry_mask\n",
    "from shapely.geometry import mapping"
   ]
  },
  {
   "cell_type": "code",
   "execution_count": 3,
   "metadata": {},
   "outputs": [
    {
     "name": "stdout",
     "output_type": "stream",
     "text": [
      "Skipping shape at index 0 due to invalid geometry.\n",
      "Skipping shape at index 1 due to invalid geometry.\n",
      "Skipping shape at index 2 due to invalid geometry.\n",
      "Skipping shape at index 3 due to invalid geometry.\n",
      "Skipping shape at index 4 due to invalid geometry.\n",
      "Skipping shape at index 5 due to invalid geometry.\n",
      "Skipping shape at index 6 due to invalid geometry.\n",
      "Skipping shape at index 515 due to invalid geometry.\n",
      "Skipping shape at index 516 due to invalid geometry.\n"
     ]
    }
   ],
   "source": [
    "# Load shapefile\n",
    "shapefile_path = '/home/shuruyi/Documents/qgis/google_satelite/shapefile/pinus.shp'\n",
    "shapes = gpd.read_file(shapefile_path)\n",
    "\n",
    "# Load the image\n",
    "image_path = '/home/shuruyi/Documents/qgis/google_satelite/google_satelite.tif'\n",
    "image = rasterio.open(image_path)\n",
    "\n",
    "# Output directory to save the extracted images\n",
    "output_dir = '/home/shuruyi/Documents/qgis/google_satelite/extracted_images'\n",
    "\n",
    "# Ensure the output directory exists or create it if not\n",
    "os.makedirs(output_dir, exist_ok=True)\n",
    "\n",
    "# Iterate through each shape and extract ROIs\n",
    "for index, shape in shapes.iterrows():\n",
    "    geometry = shape['geometry']\n",
    "    label = int(shape['pinus'])  # Assuming 'pinus' field contains '1' or '0'\n",
    "\n",
    "    # Check if the geometry is valid\n",
    "    if geometry is not None:\n",
    "        shape_geom = [mapping(geometry)]\n",
    "\n",
    "        # Use rasterio to crop the image based on the shape's geometry\n",
    "        out_image, out_transform = mask(image, shape_geom, crop=True, nodata=None, filled=False)\n",
    "\n",
    "        # Ensure that out_image has four bands (RGBA)\n",
    "        if out_image.shape[0] == 3:\n",
    "            alpha_band = np.ones((1, out_image.shape[1], out_image.shape[2]), dtype=out_image.dtype) * 255\n",
    "            out_image = np.concatenate((out_image, alpha_band), axis=0)\n",
    "\n",
    "        # Generate a unique filename for each extracted ROI with label embedded\n",
    "        output_filename = f\"extracted_roi_{index}_label_{label}.tif\"\n",
    "\n",
    "        # Create the full output path\n",
    "        output_path = os.path.join(output_dir, output_filename)\n",
    "\n",
    "        # Update metadata to make sure the output image has the correct transparency\n",
    "        meta = image.meta.copy()\n",
    "        meta.update({'count': out_image.shape[0], 'dtype': 'uint8'})\n",
    "\n",
    "        # Write the extracted ROI to a new file\n",
    "        with rasterio.open(output_path, 'w', **meta) as dest:\n",
    "            dest.write(out_image)\n",
    "    else:\n",
    "        print(f\"Skipping shape at index {index} due to invalid geometry.\")"
   ]
  },
  {
   "cell_type": "code",
   "execution_count": null,
   "metadata": {},
   "outputs": [],
   "source": []
  }
 ],
 "metadata": {
  "kernelspec": {
   "display_name": ".venv",
   "language": "python",
   "name": "python3"
  },
  "language_info": {
   "codemirror_mode": {
    "name": "ipython",
    "version": 3
   },
   "file_extension": ".py",
   "mimetype": "text/x-python",
   "name": "python",
   "nbconvert_exporter": "python",
   "pygments_lexer": "ipython3",
   "version": "3.11.8"
  }
 },
 "nbformat": 4,
 "nbformat_minor": 2
}
