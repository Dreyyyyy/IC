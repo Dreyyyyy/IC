{
 "cells": [
  {
   "cell_type": "code",
   "execution_count": null,
   "metadata": {},
   "outputs": [],
   "source": [
    "import os\n",
    "import random\n",
    "import shutil\n",
    "\n",
    "# Define paths\n",
    "main_folder = '/home/shuruyi/Documents/qgis/google_satelite/extracted_images/'\n",
    "train_folder = '/home/shuruyi/Documents/qgis/google_satelite/train'\n",
    "test_folder = '/home/shuruyi/Documents/qgis/google_satelite/test'\n",
    "\n",
    "# Create train and test directories if they don't exist\n",
    "os.makedirs(train_folder, exist_ok=True)\n",
    "os.makedirs(test_folder, exist_ok=True)\n",
    "\n",
    "# List all TIFF files in the main folder\n",
    "tif_files = [f for f in os.listdir(main_folder) if f.endswith('.tif')]\n",
    "\n",
    "# Define the ratio for train-test split (e.g., 80-20 split)\n",
    "train_ratio = 0.8\n",
    "num_train = int(len(tif_files) * train_ratio)\n",
    "\n",
    "# Randomly shuffle the list of files\n",
    "random.shuffle(tif_files)\n",
    "\n",
    "# Move files to train folder\n",
    "for file in tif_files[:num_train]:\n",
    "    src = os.path.join(main_folder, file)\n",
    "    dst = os.path.join(train_folder, file)\n",
    "    shutil.move(src, dst)\n",
    "\n",
    "# Move files to test folder\n",
    "for file in tif_files[num_train:]:\n",
    "    src = os.path.join(main_folder, file)\n",
    "    dst = os.path.join(test_folder, file)\n",
    "    shutil.move(src, dst)"
   ]
  }
 ],
 "metadata": {
  "language_info": {
   "name": "python"
  }
 },
 "nbformat": 4,
 "nbformat_minor": 2
}
